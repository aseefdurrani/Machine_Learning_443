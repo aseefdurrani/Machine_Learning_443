{
  "cells": [
    {
      "cell_type": "markdown",
      "metadata": {
        "id": "DAO8AZsc266y"
      },
      "source": [
        "# Aseef Durrani\n",
        "# Programming Exercise \\#1\n",
        "---"
      ]
    },
    {
      "cell_type": "markdown",
      "metadata": {
        "id": "rJOtXeNg38_u"
      },
      "source": [
        "# Preamble"
      ]
    },
    {
      "cell_type": "code",
      "execution_count": null,
      "metadata": {
        "id": "Ldu0WSDK4IjA"
      },
      "outputs": [],
      "source": [
        "# optional code cell when using Google Colab with Google Drive\n",
        "\n",
        "# remove the docstring comment block below in order to mount Google Drive\n",
        "'''\n",
        "# mount Google Drive in Google Colab\n",
        "from google.colab import drive\n",
        "drive.mount('/content/drive')\n",
        "\n",
        "# change directory using the magic command %cd\n",
        "### replace [MY PATH] below with your own path in Google Drive ###\n",
        "### %cd /content/drive/My\\ Drive/[MY PATH] ###\n",
        "'''"
      ]
    },
    {
      "cell_type": "code",
      "execution_count": null,
      "metadata": {
        "id": "rjUKWdVD_Eqh"
      },
      "outputs": [],
      "source": [
        "# import relevant Python libraries\n",
        "\n",
        "### Your import commands go here ###"
      ]
    },
    {
      "cell_type": "markdown",
      "metadata": {
        "id": "PeHo02TLz-hL"
      },
      "source": [
        "# **1. Fetal Health Classification Dataset**"
      ]
    },
    {
      "cell_type": "markdown",
      "metadata": {
        "id": "wnzH3Rd2vu-l"
      },
      "source": [
        "## **Clean Dataset**"
      ]
    },
    {
      "cell_type": "markdown",
      "metadata": {
        "id": "qmMHJttez-hM"
      },
      "source": [
        "### Problem 1.1"
      ]
    },
    {
      "cell_type": "code",
      "execution_count": null,
      "metadata": {
        "id": "IgKSHxewsRdP"
      },
      "outputs": [],
      "source": [
        "# load the clean dataset csv file into a pandas dataframe\n",
        "\n",
        "### fetal_df = pd.read_csv('fetal_health_dataset_clean.csv') ###"
      ]
    },
    {
      "cell_type": "markdown",
      "metadata": {
        "id": "EKQZRr9Dz-hN"
      },
      "source": [
        "#### (a)"
      ]
    },
    {
      "cell_type": "markdown",
      "metadata": {
        "id": "9eH6uWf4z-hN"
      },
      "source": [
        "_[Your answer for 1.1(a) goes here]_"
      ]
    },
    {
      "cell_type": "markdown",
      "metadata": {
        "id": "77c-6U-_z-hO"
      },
      "source": [
        "#### (b)"
      ]
    },
    {
      "cell_type": "code",
      "execution_count": null,
      "metadata": {
        "id": "530SUQVjz-hP"
      },
      "outputs": [],
      "source": [
        "### Your code for 1.1(b) goes here ###"
      ]
    },
    {
      "cell_type": "markdown",
      "metadata": {
        "id": "_tMu1LVSz-hQ"
      },
      "source": [
        "#### (c)\n",
        "\n"
      ]
    },
    {
      "cell_type": "code",
      "execution_count": null,
      "metadata": {
        "id": "1D7twXbHz-hR"
      },
      "outputs": [],
      "source": [
        "### Your code for 1.1(c) goes here ###"
      ]
    },
    {
      "cell_type": "markdown",
      "metadata": {
        "id": "kUKa9J6dz-hR"
      },
      "source": [
        "#### (d)"
      ]
    },
    {
      "cell_type": "code",
      "execution_count": null,
      "metadata": {
        "id": "2xNG_h3wz-hS"
      },
      "outputs": [],
      "source": [
        "### Your code for 1.1(d) goes here ###"
      ]
    },
    {
      "cell_type": "markdown",
      "metadata": {
        "id": "Jy00M5wcz-hS"
      },
      "source": [
        "#### (e)"
      ]
    },
    {
      "cell_type": "markdown",
      "metadata": {
        "id": "TfEQY5rUt2fd"
      },
      "source": [
        "_[Your answer for 1.1(e) goes here]_"
      ]
    },
    {
      "cell_type": "markdown",
      "metadata": {
        "id": "sv2CGUT8uFX3"
      },
      "source": [
        "#### (f)"
      ]
    },
    {
      "cell_type": "markdown",
      "metadata": {
        "id": "tKhYMGeDuLax"
      },
      "source": [
        "_[Your answer for 1.1(f) goes here]_"
      ]
    },
    {
      "cell_type": "markdown",
      "metadata": {
        "id": "N0TPsxCauZJ6"
      },
      "source": [
        "#### (g)"
      ]
    },
    {
      "cell_type": "markdown",
      "metadata": {
        "id": "KXYePFTTubbg"
      },
      "source": [
        "_[Your answer for 1.1(g) goes here]_"
      ]
    },
    {
      "cell_type": "markdown",
      "metadata": {
        "id": "hTwCZxwFuhZs"
      },
      "source": [
        "#### (h)"
      ]
    },
    {
      "cell_type": "markdown",
      "metadata": {
        "id": "URok105CuhHF"
      },
      "source": [
        "_[Your answer for 1.1(h) goes here]_"
      ]
    },
    {
      "cell_type": "markdown",
      "metadata": {
        "id": "5XeG2MZFup3y"
      },
      "source": [
        "#### (i)"
      ]
    },
    {
      "cell_type": "markdown",
      "metadata": {
        "id": "5tt7ikfNupvv"
      },
      "source": [
        "_[Your answer for 1.1(i) goes here]_"
      ]
    },
    {
      "cell_type": "markdown",
      "metadata": {
        "id": "BOeDxdYOupk-"
      },
      "source": [
        "#### (j)"
      ]
    },
    {
      "cell_type": "markdown",
      "metadata": {
        "id": "A1IqEbduupbQ"
      },
      "source": [
        "_[Your answer for 1.1(j) goes here]_"
      ]
    },
    {
      "cell_type": "markdown",
      "metadata": {
        "id": "gLVO6JSHupOE"
      },
      "source": [
        "#### (k)"
      ]
    },
    {
      "cell_type": "markdown",
      "metadata": {
        "id": "AHbPBjDsuo6j"
      },
      "source": [
        "_[Your answer for 1.1(k) goes here]_"
      ]
    },
    {
      "cell_type": "markdown",
      "metadata": {
        "id": "ps849tTTu74M"
      },
      "source": [
        "#### (l)"
      ]
    },
    {
      "cell_type": "code",
      "execution_count": null,
      "metadata": {
        "id": "XlIIQGYQz-hT"
      },
      "outputs": [],
      "source": [
        "### Your code for 1.1(l) goes here ###"
      ]
    },
    {
      "cell_type": "markdown",
      "metadata": {
        "id": "240_-4A5u8oB"
      },
      "source": [
        "_[Your justification for 1.1(l) goes here]_"
      ]
    },
    {
      "cell_type": "markdown",
      "metadata": {
        "id": "avTEhBQLvMtw"
      },
      "source": [
        "#### (m)"
      ]
    },
    {
      "cell_type": "markdown",
      "metadata": {
        "id": "r1psH--XvMV8"
      },
      "source": [
        "_[Your answer for 1.1(m) goes here]_"
      ]
    },
    {
      "cell_type": "markdown",
      "metadata": {
        "id": "qVW9ov3kvMRj"
      },
      "source": [
        "#### (n)"
      ]
    },
    {
      "cell_type": "code",
      "execution_count": null,
      "metadata": {
        "id": "zV2P8n4pvUQT"
      },
      "outputs": [],
      "source": [
        "### Your code for 1.1(n) goes here ###"
      ]
    },
    {
      "cell_type": "markdown",
      "metadata": {
        "id": "z8lTzSQFwqI1"
      },
      "source": [
        "## **Dirty Dataset**"
      ]
    },
    {
      "cell_type": "code",
      "execution_count": null,
      "metadata": {
        "id": "hAMx9uwbw8rV"
      },
      "outputs": [],
      "source": [
        "# load the dirty dataset csv file into a pandas dataframe\n",
        "\n",
        "### fetal_dirty_df = pd.read_csv('fetal_health_dataset_dirty.csv') ###"
      ]
    },
    {
      "cell_type": "markdown",
      "metadata": {
        "id": "nOJPywDYz-hT"
      },
      "source": [
        "### Problem 1.2"
      ]
    },
    {
      "cell_type": "markdown",
      "metadata": {
        "id": "UTf6Yiqjz-hT"
      },
      "source": [
        "#### (a)"
      ]
    },
    {
      "cell_type": "code",
      "execution_count": null,
      "metadata": {
        "id": "qOPVMIawz-hU"
      },
      "outputs": [],
      "source": [
        "### Your code for 1.2(a) goes here ###"
      ]
    },
    {
      "cell_type": "markdown",
      "metadata": {
        "id": "CrZQxH5hz-hU"
      },
      "source": [
        "#### (b)"
      ]
    },
    {
      "cell_type": "code",
      "execution_count": null,
      "metadata": {
        "id": "ESSjRnLCz-hU"
      },
      "outputs": [],
      "source": [
        "### Your code for 1.2(b) goes here ###"
      ]
    },
    {
      "cell_type": "markdown",
      "metadata": {
        "id": "hWh95Fiyz-hU"
      },
      "source": [
        "#### (c)"
      ]
    },
    {
      "cell_type": "code",
      "execution_count": null,
      "metadata": {
        "id": "VZ9EtxC-z-hV"
      },
      "outputs": [],
      "source": [
        "### Your code for 1.2(c) goes here ###"
      ]
    },
    {
      "cell_type": "markdown",
      "metadata": {
        "id": "OYDjQvfFxnQw"
      },
      "source": [
        "### Problem 1.3"
      ]
    },
    {
      "cell_type": "code",
      "execution_count": null,
      "metadata": {
        "id": "5YCLwVJuxrXG"
      },
      "outputs": [],
      "source": [
        "### Your code for 1.3 goes here ###"
      ]
    },
    {
      "cell_type": "markdown",
      "metadata": {
        "id": "zpP3WEH6xw9b"
      },
      "source": [
        "_[Your justification for 1.3 goes here]_"
      ]
    },
    {
      "cell_type": "markdown",
      "metadata": {
        "id": "OqxjckzSz-hV"
      },
      "source": [
        "### Problem 1.4"
      ]
    },
    {
      "cell_type": "code",
      "execution_count": null,
      "metadata": {
        "id": "IPw21Smex-cV"
      },
      "outputs": [],
      "source": [
        "### Your code for 1.4 goes here ###"
      ]
    },
    {
      "cell_type": "markdown",
      "metadata": {
        "id": "bgxDFuA3z-hW"
      },
      "source": [
        "### Problem 1.5"
      ]
    },
    {
      "cell_type": "code",
      "execution_count": null,
      "metadata": {
        "id": "-0v14ybDz-hW"
      },
      "outputs": [],
      "source": [
        "### Your code for 1.5 goes here ###"
      ]
    },
    {
      "cell_type": "markdown",
      "metadata": {
        "id": "RRrpdSTJyGt1"
      },
      "source": [
        "### Problem 1.6"
      ]
    },
    {
      "cell_type": "code",
      "execution_count": null,
      "metadata": {
        "id": "Ctwd0h7XyG8k"
      },
      "outputs": [],
      "source": [
        "### Your code for 1.6 goes here ###"
      ]
    },
    {
      "cell_type": "markdown",
      "metadata": {
        "id": "E8hZzOSvymHL"
      },
      "source": [
        "# **2. Heart Failure Prediction Dataset**"
      ]
    },
    {
      "cell_type": "markdown",
      "metadata": {
        "id": "5YpfhDVMymHM"
      },
      "source": [
        "## Problem 2.1"
      ]
    },
    {
      "cell_type": "code",
      "execution_count": null,
      "metadata": {
        "id": "xD1GcvD4ymHM"
      },
      "outputs": [],
      "source": [
        "# load the dataset csv file into a pandas dataframe\n",
        "\n",
        "### heart_df = pd.read_csv('heart_failure_dataset.csv') ###"
      ]
    },
    {
      "cell_type": "markdown",
      "metadata": {
        "id": "1EQWwLbvymHN"
      },
      "source": [
        "### (a)"
      ]
    },
    {
      "cell_type": "markdown",
      "metadata": {
        "id": "6GkRt8w6ymHN"
      },
      "source": [
        "_[Your answer for 2.1(a) goes here]_"
      ]
    },
    {
      "cell_type": "markdown",
      "metadata": {
        "id": "T5HoKdioymHN"
      },
      "source": [
        "### (b)"
      ]
    },
    {
      "cell_type": "code",
      "execution_count": null,
      "metadata": {
        "id": "xUGIEmzYymHN"
      },
      "outputs": [],
      "source": [
        "### Your code for 2.1(b) goes here ###"
      ]
    },
    {
      "cell_type": "markdown",
      "metadata": {
        "id": "TGHAoXfMymHO"
      },
      "source": [
        "### (c)\n",
        "\n"
      ]
    },
    {
      "cell_type": "code",
      "execution_count": null,
      "metadata": {
        "id": "ItDMYWoFymHO"
      },
      "outputs": [],
      "source": [
        "### Your code for 2.1(c) goes here ###"
      ]
    },
    {
      "cell_type": "markdown",
      "metadata": {
        "id": "7kNl2WpSymHO"
      },
      "source": [
        "### (d)"
      ]
    },
    {
      "cell_type": "code",
      "execution_count": null,
      "metadata": {
        "id": "AblNbsncymHO"
      },
      "outputs": [],
      "source": [
        "### Your code for 2.1(d) goes here ###"
      ]
    },
    {
      "cell_type": "markdown",
      "metadata": {
        "id": "xuh9-lN7ymHP"
      },
      "source": [
        "### (e)"
      ]
    },
    {
      "cell_type": "markdown",
      "metadata": {
        "id": "tL9qHIJXymHP"
      },
      "source": [
        "_[Your answer for 2.1(e) goes here]_"
      ]
    },
    {
      "cell_type": "markdown",
      "metadata": {
        "id": "csN1zEzLymHP"
      },
      "source": [
        "### (f)"
      ]
    },
    {
      "cell_type": "markdown",
      "metadata": {
        "id": "a0HNj-AyymHP"
      },
      "source": [
        "_[Your answer for 2.1(f) goes here]_"
      ]
    },
    {
      "cell_type": "markdown",
      "metadata": {
        "id": "Ayov9je2ymHQ"
      },
      "source": [
        "### (g)"
      ]
    },
    {
      "cell_type": "markdown",
      "metadata": {
        "id": "B4E676ygymHQ"
      },
      "source": [
        "_[Your answer for 2.1(g) goes here]_"
      ]
    },
    {
      "cell_type": "markdown",
      "metadata": {
        "id": "a8Bo-uKXymHQ"
      },
      "source": [
        "### (h)"
      ]
    },
    {
      "cell_type": "markdown",
      "metadata": {
        "id": "3gxnjWUgymHQ"
      },
      "source": [
        "_[Your answer for 2.1(h) goes here]_"
      ]
    },
    {
      "cell_type": "markdown",
      "metadata": {
        "id": "G9BxqfsbymHQ"
      },
      "source": [
        "### (i)"
      ]
    },
    {
      "cell_type": "markdown",
      "metadata": {
        "id": "2bXh4Av6ymHR"
      },
      "source": [
        "_[Your answer for 2.1(i) goes here]_"
      ]
    },
    {
      "cell_type": "markdown",
      "metadata": {
        "id": "OzpMBV2cymHR"
      },
      "source": [
        "### (j)"
      ]
    },
    {
      "cell_type": "code",
      "execution_count": null,
      "metadata": {
        "id": "CM0kJiNMzftk"
      },
      "outputs": [],
      "source": [
        "### Your code for 2.1(j) goes here ###"
      ]
    },
    {
      "cell_type": "markdown",
      "metadata": {
        "id": "1tX1-uIgymHR"
      },
      "source": [
        "_[Your justification for 2.1(j) goes here]_"
      ]
    },
    {
      "cell_type": "markdown",
      "metadata": {
        "id": "2BBhe25UymHR"
      },
      "source": [
        "### (k)"
      ]
    },
    {
      "cell_type": "markdown",
      "metadata": {
        "id": "PNxn1zIzymHR"
      },
      "source": [
        "_[Your answer for 2.1(k) goes here]_"
      ]
    },
    {
      "cell_type": "markdown",
      "metadata": {
        "id": "e9TnxUb3ymHR"
      },
      "source": [
        "### (l)"
      ]
    },
    {
      "cell_type": "code",
      "execution_count": null,
      "metadata": {
        "id": "KUfiYo3lymHS"
      },
      "outputs": [],
      "source": [
        "### Your code for 2.1(l) goes here ###"
      ]
    },
    {
      "cell_type": "markdown",
      "metadata": {
        "id": "VlxMlRziymHS"
      },
      "source": [
        "### (m)"
      ]
    },
    {
      "cell_type": "code",
      "execution_count": null,
      "metadata": {
        "id": "Kp2yCXJ-z3Gh"
      },
      "outputs": [],
      "source": [
        "### Your code for 2.1(m) goes here ###"
      ]
    },
    {
      "cell_type": "markdown",
      "metadata": {
        "id": "S-53k2x3ymHS"
      },
      "source": [
        "### (n)"
      ]
    },
    {
      "cell_type": "code",
      "execution_count": null,
      "metadata": {
        "id": "emwfFgVAymHT"
      },
      "outputs": [],
      "source": [
        "### Your code for 2.1(n) goes here ###"
      ]
    },
    {
      "cell_type": "markdown",
      "metadata": {
        "id": "FpQWnOOpymHT"
      },
      "source": [
        "## Problem 2.2"
      ]
    },
    {
      "cell_type": "code",
      "execution_count": null,
      "metadata": {
        "id": "QmAtpjMiymHU"
      },
      "outputs": [],
      "source": [
        "### Your code for 2.2 goes here ###"
      ]
    },
    {
      "cell_type": "markdown",
      "metadata": {
        "id": "it9WyiZiymHU"
      },
      "source": [
        "_[Your justification for 2.2 goes here]_"
      ]
    },
    {
      "cell_type": "markdown",
      "metadata": {
        "id": "6fqh4x4FymHV"
      },
      "source": [
        "## Problem 2.3"
      ]
    },
    {
      "cell_type": "code",
      "execution_count": null,
      "metadata": {
        "id": "gMs526ezymHV"
      },
      "outputs": [],
      "source": [
        "### Your code for 2.3 goes here ###"
      ]
    },
    {
      "cell_type": "markdown",
      "metadata": {
        "id": "E98vhjP2ymHV"
      },
      "source": [
        "## Problem 2.4"
      ]
    },
    {
      "cell_type": "code",
      "execution_count": null,
      "metadata": {
        "id": "SPylR2kxymHW"
      },
      "outputs": [],
      "source": [
        "### Your code for 2.4 goes here ###"
      ]
    },
    {
      "cell_type": "markdown",
      "metadata": {
        "id": "xfPMV5BEymHW"
      },
      "source": [
        "## Problem 2.5"
      ]
    },
    {
      "cell_type": "code",
      "execution_count": null,
      "metadata": {
        "id": "RgVpyMUmymHW"
      },
      "outputs": [],
      "source": [
        "### Your code for 2.5 goes here ###"
      ]
    },
    {
      "cell_type": "markdown",
      "metadata": {
        "id": "ANRm2Vxh1Cda"
      },
      "source": [
        "### (a)"
      ]
    },
    {
      "cell_type": "markdown",
      "metadata": {
        "id": "2E0LfOKm1CVp"
      },
      "source": [
        "_[Your answer for 2.5(a) goes here]_"
      ]
    },
    {
      "cell_type": "markdown",
      "metadata": {
        "id": "HewpTMK61CI7"
      },
      "source": [
        "### (b)"
      ]
    },
    {
      "cell_type": "markdown",
      "metadata": {
        "id": "LRK015A91B-R"
      },
      "source": [
        "_[Your answer for 2.5(b) goes here]_"
      ]
    },
    {
      "cell_type": "markdown",
      "metadata": {
        "id": "jnGzZ9gO1BoX"
      },
      "source": [
        "### (c)"
      ]
    },
    {
      "cell_type": "markdown",
      "metadata": {
        "id": "zXc0HGwg1BlY"
      },
      "source": [
        "_[Your answer for 2.5(c) goes here]_"
      ]
    },
    {
      "cell_type": "markdown",
      "metadata": {
        "id": "fE1TPn3s1Xq9"
      },
      "source": [
        "### (d)"
      ]
    },
    {
      "cell_type": "markdown",
      "metadata": {
        "id": "1RXjXFH81XhL"
      },
      "source": [
        "_[Your answer for 2.5(d) goes here]_"
      ]
    }
  ],
  "metadata": {
    "colab": {
      "collapsed_sections": [],
      "provenance": []
    },
    "kernelspec": {
      "display_name": "Python 3",
      "language": "python",
      "name": "python3"
    },
    "language_info": {
      "codemirror_mode": {
        "name": "ipython",
        "version": 3
      },
      "file_extension": ".py",
      "mimetype": "text/x-python",
      "name": "python",
      "nbconvert_exporter": "python",
      "pygments_lexer": "ipython3",
      "version": "3.7.9"
    }
  },
  "nbformat": 4,
  "nbformat_minor": 0
}
