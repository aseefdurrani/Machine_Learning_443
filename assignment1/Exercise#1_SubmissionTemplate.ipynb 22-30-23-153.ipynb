{
  "cells": [
    {
      "cell_type": "markdown",
      "metadata": {
        "id": "DAO8AZsc266y"
      },
      "source": [
        "# Aseef Durrani\n",
        "# Programming Exercise \\#1\n",
        "---"
      ]
    },
    {
      "cell_type": "markdown",
      "metadata": {
        "id": "rJOtXeNg38_u"
      },
      "source": [
        "# Preamble"
      ]
    },
    {
      "cell_type": "code",
      "execution_count": null,
      "metadata": {
        "id": "Ldu0WSDK4IjA"
      },
      "outputs": [],
      "source": [
        "# optional code cell when using Google Colab with Google Drive\n",
        "\n",
        "# remove the docstring comment block below in order to mount Google Drive\n",
        "'''\n",
        "# mount Google Drive in Google Colab\n",
        "from google.colab import drive\n",
        "drive.mount('/content/drive')\n",
        "\n",
        "# change directory using the magic command %cd\n",
        "### replace [MY PATH] below with your own path in Google Drive ###\n",
        "### %cd /content/drive/My\\ Drive/[MY PATH] ###\n",
        "'''"
      ]
    },
    {
      "cell_type": "code",
      "execution_count": 2,
      "metadata": {
        "id": "rjUKWdVD_Eqh"
      },
      "outputs": [],
      "source": [
        "# import relevant Python libraries\n",
        "\n",
        "import numpy as np\n",
        "import pandas as pd\n",
        "from scipy import stats as sps\n",
        "from IPython.display import display, Latex\n"
      ]
    },
    {
      "cell_type": "markdown",
      "metadata": {
        "id": "PeHo02TLz-hL"
      },
      "source": [
        "# **1. Fetal Health Classification Dataset**"
      ]
    },
    {
      "cell_type": "markdown",
      "metadata": {
        "id": "wnzH3Rd2vu-l"
      },
      "source": [
        "## **Clean Dataset**"
      ]
    },
    {
      "cell_type": "markdown",
      "metadata": {
        "id": "qmMHJttez-hM"
      },
      "source": [
        "### Problem 1.1"
      ]
    },
    {
      "cell_type": "code",
      "execution_count": 3,
      "metadata": {
        "id": "IgKSHxewsRdP"
      },
      "outputs": [],
      "source": [
        "# load the clean dataset csv file into a pandas dataframe\n",
        "\n",
        "fetal_df = pd.read_csv('fetal_health_dataset_clean.csv')"
      ]
    },
    {
      "cell_type": "markdown",
      "metadata": {
        "id": "EKQZRr9Dz-hN"
      },
      "source": [
        "#### (a)"
      ]
    },
    {
      "cell_type": "markdown",
      "metadata": {
        "id": "9eH6uWf4z-hN"
      },
      "source": [
        "This appears to be a supervised learning problem, where the goal is to classify the fetal health status based on various physiological measurements. The dataset has 1 clear target variable, fetal_health. Our goal is to predict this target variable based on the other features in the dataset, which is the excact definition of a supervised machine learning task. "
      ]
    },
    {
      "cell_type": "markdown",
      "metadata": {
        "id": "77c-6U-_z-hO"
      },
      "source": [
        "#### (b)"
      ]
    },
    {
      "cell_type": "code",
      "execution_count": 4,
      "metadata": {
        "id": "530SUQVjz-hP"
      },
      "outputs": [
        {
          "name": "stdout",
          "output_type": "stream",
          "text": [
            "Axes of fetal_df: \n",
            " [RangeIndex(start=0, stop=2126, step=1), Index(['baseline value', 'accelerations', 'fetal_movement',\n",
            "       'uterine_contractions', 'light_decelerations', 'severe_decelerations',\n",
            "       'prolongued_decelerations', 'abnormal_short_term_variability',\n",
            "       'mean_value_of_short_term_variability',\n",
            "       'percentage_of_time_with_abnormal_long_term_variability',\n",
            "       'mean_value_of_long_term_variability', 'histogram_width',\n",
            "       'histogram_min', 'histogram_max', 'histogram_number_of_peaks',\n",
            "       'histogram_number_of_zeroes', 'histogram_mode', 'histogram_mean',\n",
            "       'histogram_median', 'histogram_variance', 'histogram_tendency',\n",
            "       'fetal_health'],\n",
            "      dtype='object')]\n",
            "\n",
            "Data types of fetal_df columns: \n",
            " baseline value                                              int64\n",
            "accelerations                                             float64\n",
            "fetal_movement                                            float64\n",
            "uterine_contractions                                      float64\n",
            "light_decelerations                                       float64\n",
            "severe_decelerations                                      float64\n",
            "prolongued_decelerations                                  float64\n",
            "abnormal_short_term_variability                             int64\n",
            "mean_value_of_short_term_variability                      float64\n",
            "percentage_of_time_with_abnormal_long_term_variability      int64\n",
            "mean_value_of_long_term_variability                       float64\n",
            "histogram_width                                             int64\n",
            "histogram_min                                               int64\n",
            "histogram_max                                               int64\n",
            "histogram_number_of_peaks                                   int64\n",
            "histogram_number_of_zeroes                                  int64\n",
            "histogram_mode                                              int64\n",
            "histogram_mean                                              int64\n",
            "histogram_median                                            int64\n",
            "histogram_variance                                          int64\n",
            "histogram_tendency                                          int64\n",
            "fetal_health                                                int64\n",
            "dtype: object\n"
          ]
        }
      ],
      "source": [
        "# Print the dtypes attribute\n",
        "print(\"Axes of fetal_df: \\n\", fetal_df.axes)\n",
        "\n",
        "# Print the dtypes attribute\n",
        "print(\"\\nData types of fetal_df columns: \\n\", fetal_df.dtypes)"
      ]
    },
    {
      "cell_type": "markdown",
      "metadata": {
        "id": "_tMu1LVSz-hQ"
      },
      "source": [
        "#### (c)\n",
        "\n"
      ]
    },
    {
      "cell_type": "code",
      "execution_count": 7,
      "metadata": {
        "id": "1D7twXbHz-hR"
      },
      "outputs": [
        {
          "name": "stdout",
          "output_type": "stream",
          "text": [
            "First 10 rows of fetal_df: \n",
            "    baseline value  accelerations  fetal_movement  uterine_contractions  \\\n",
            "0             120          0.000             0.0                 0.000   \n",
            "1             132          0.006             0.0                 0.006   \n",
            "2             133          0.003             0.0                 0.008   \n",
            "3             134          0.003             0.0                 0.008   \n",
            "4             132          0.007             0.0                 0.008   \n",
            "5             134          0.001             0.0                 0.010   \n",
            "6             134          0.001             0.0                 0.013   \n",
            "7             122          0.000             0.0                 0.000   \n",
            "8             122          0.000             0.0                 0.002   \n",
            "9             122          0.000             0.0                 0.003   \n",
            "\n",
            "   light_decelerations  severe_decelerations  prolongued_decelerations  \\\n",
            "0                0.000                   0.0                     0.000   \n",
            "1                0.003                   0.0                     0.000   \n",
            "2                0.003                   0.0                     0.000   \n",
            "3                0.003                   0.0                     0.000   \n",
            "4                0.000                   0.0                     0.000   \n",
            "5                0.009                   0.0                     0.002   \n",
            "6                0.008                   0.0                     0.003   \n",
            "7                0.000                   0.0                     0.000   \n",
            "8                0.000                   0.0                     0.000   \n",
            "9                0.000                   0.0                     0.000   \n",
            "\n",
            "   abnormal_short_term_variability  mean_value_of_short_term_variability  \\\n",
            "0                               73                                   0.5   \n",
            "1                               17                                   2.1   \n",
            "2                               16                                   2.1   \n",
            "3                               16                                   2.4   \n",
            "4                               16                                   2.4   \n",
            "5                               26                                   5.9   \n",
            "6                               29                                   6.3   \n",
            "7                               83                                   0.5   \n",
            "8                               84                                   0.5   \n",
            "9                               86                                   0.3   \n",
            "\n",
            "   percentage_of_time_with_abnormal_long_term_variability  ...  histogram_min  \\\n",
            "0                                                 43       ...             62   \n",
            "1                                                  0       ...             68   \n",
            "2                                                  0       ...             68   \n",
            "3                                                  0       ...             53   \n",
            "4                                                  0       ...             53   \n",
            "5                                                  0       ...             50   \n",
            "6                                                  0       ...             50   \n",
            "7                                                  6       ...             62   \n",
            "8                                                  5       ...             62   \n",
            "9                                                  6       ...             62   \n",
            "\n",
            "   histogram_max  histogram_number_of_peaks  histogram_number_of_zeroes  \\\n",
            "0            126                          2                           0   \n",
            "1            198                          6                           1   \n",
            "2            198                          5                           1   \n",
            "3            170                         11                           0   \n",
            "4            170                          9                           0   \n",
            "5            200                          5                           3   \n",
            "6            200                          6                           3   \n",
            "7            130                          0                           0   \n",
            "8            130                          0                           0   \n",
            "9            130                          1                           0   \n",
            "\n",
            "   histogram_mode  histogram_mean  histogram_median  histogram_variance  \\\n",
            "0             120             137               121                  73   \n",
            "1             141             136               140                  12   \n",
            "2             141             135               138                  13   \n",
            "3             137             134               137                  13   \n",
            "4             137             136               138                  11   \n",
            "5              76             107               107                 170   \n",
            "6              71             107               106                 215   \n",
            "7             122             122               123                   3   \n",
            "8             122             122               123                   3   \n",
            "9             122             122               123                   1   \n",
            "\n",
            "   histogram_tendency  fetal_health  \n",
            "0                   1             2  \n",
            "1                   0             1  \n",
            "2                   0             1  \n",
            "3                   1             1  \n",
            "4                   1             1  \n",
            "5                   0             3  \n",
            "6                   0             3  \n",
            "7                   1             3  \n",
            "8                   1             3  \n",
            "9                   1             3  \n",
            "\n",
            "[10 rows x 22 columns]\n"
          ]
        }
      ],
      "source": [
        "# Print the first 10 rows of the fetal_df DataFrame\n",
        "print(\"First 10 rows of fetal_df: \\n\", fetal_df.head(10))"
      ]
    },
    {
      "cell_type": "markdown",
      "metadata": {
        "id": "kUKa9J6dz-hR"
      },
      "source": [
        "#### (d)"
      ]
    },
    {
      "cell_type": "code",
      "execution_count": 8,
      "metadata": {
        "id": "2xNG_h3wz-hS"
      },
      "outputs": [
        {
          "name": "stdout",
          "output_type": "stream",
          "text": [
            "Number of rows and columns in fetal_df:  (2126, 22)\n"
          ]
        }
      ],
      "source": [
        "### Question 1.1(d): Using the shape attribute of fetal_df dataframe, print the number of rows and columns within the csv file.\n",
        "print(\"Number of rows and columns in fetal_df: \", fetal_df.shape)"
      ]
    },
    {
      "cell_type": "markdown",
      "metadata": {
        "id": "Jy00M5wcz-hS"
      },
      "source": [
        "#### (e)"
      ]
    },
    {
      "cell_type": "markdown",
      "metadata": {
        "id": "TfEQY5rUt2fd"
      },
      "source": [
        "_[Your answer for 1.1(e) goes here]_"
      ]
    },
    {
      "cell_type": "markdown",
      "metadata": {
        "id": "sv2CGUT8uFX3"
      },
      "source": [
        "#### (f)"
      ]
    },
    {
      "cell_type": "markdown",
      "metadata": {
        "id": "tKhYMGeDuLax"
      },
      "source": [
        "_[Your answer for 1.1(f) goes here]_"
      ]
    },
    {
      "cell_type": "markdown",
      "metadata": {
        "id": "N0TPsxCauZJ6"
      },
      "source": [
        "#### (g)"
      ]
    },
    {
      "cell_type": "markdown",
      "metadata": {
        "id": "KXYePFTTubbg"
      },
      "source": [
        "_[Your answer for 1.1(g) goes here]_"
      ]
    },
    {
      "cell_type": "markdown",
      "metadata": {
        "id": "hTwCZxwFuhZs"
      },
      "source": [
        "#### (h)"
      ]
    },
    {
      "cell_type": "markdown",
      "metadata": {
        "id": "URok105CuhHF"
      },
      "source": [
        "_[Your answer for 1.1(h) goes here]_"
      ]
    },
    {
      "cell_type": "markdown",
      "metadata": {
        "id": "5XeG2MZFup3y"
      },
      "source": [
        "#### (i)"
      ]
    },
    {
      "cell_type": "markdown",
      "metadata": {
        "id": "5tt7ikfNupvv"
      },
      "source": [
        "_[Your answer for 1.1(i) goes here]_"
      ]
    },
    {
      "cell_type": "markdown",
      "metadata": {
        "id": "BOeDxdYOupk-"
      },
      "source": [
        "#### (j)"
      ]
    },
    {
      "cell_type": "markdown",
      "metadata": {
        "id": "A1IqEbduupbQ"
      },
      "source": [
        "_[Your answer for 1.1(j) goes here]_"
      ]
    },
    {
      "cell_type": "markdown",
      "metadata": {
        "id": "gLVO6JSHupOE"
      },
      "source": [
        "#### (k)"
      ]
    },
    {
      "cell_type": "markdown",
      "metadata": {
        "id": "AHbPBjDsuo6j"
      },
      "source": [
        "_[Your answer for 1.1(k) goes here]_"
      ]
    },
    {
      "cell_type": "markdown",
      "metadata": {
        "id": "ps849tTTu74M"
      },
      "source": [
        "#### (l)"
      ]
    },
    {
      "cell_type": "code",
      "execution_count": null,
      "metadata": {
        "id": "XlIIQGYQz-hT"
      },
      "outputs": [],
      "source": [
        "### Your code for 1.1(l) goes here ###"
      ]
    },
    {
      "cell_type": "markdown",
      "metadata": {
        "id": "240_-4A5u8oB"
      },
      "source": [
        "_[Your justification for 1.1(l) goes here]_"
      ]
    },
    {
      "cell_type": "markdown",
      "metadata": {
        "id": "avTEhBQLvMtw"
      },
      "source": [
        "#### (m)"
      ]
    },
    {
      "cell_type": "markdown",
      "metadata": {
        "id": "r1psH--XvMV8"
      },
      "source": [
        "_[Your answer for 1.1(m) goes here]_"
      ]
    },
    {
      "cell_type": "markdown",
      "metadata": {
        "id": "qVW9ov3kvMRj"
      },
      "source": [
        "#### (n)"
      ]
    },
    {
      "cell_type": "code",
      "execution_count": null,
      "metadata": {
        "id": "zV2P8n4pvUQT"
      },
      "outputs": [],
      "source": [
        "### Your code for 1.1(n) goes here ###"
      ]
    },
    {
      "cell_type": "markdown",
      "metadata": {
        "id": "z8lTzSQFwqI1"
      },
      "source": [
        "## **Dirty Dataset**"
      ]
    },
    {
      "cell_type": "code",
      "execution_count": null,
      "metadata": {
        "id": "hAMx9uwbw8rV"
      },
      "outputs": [],
      "source": [
        "# load the dirty dataset csv file into a pandas dataframe\n",
        "\n",
        "### fetal_dirty_df = pd.read_csv('fetal_health_dataset_dirty.csv') ###"
      ]
    },
    {
      "cell_type": "markdown",
      "metadata": {
        "id": "nOJPywDYz-hT"
      },
      "source": [
        "### Problem 1.2"
      ]
    },
    {
      "cell_type": "markdown",
      "metadata": {
        "id": "UTf6Yiqjz-hT"
      },
      "source": [
        "#### (a)"
      ]
    },
    {
      "cell_type": "code",
      "execution_count": null,
      "metadata": {
        "id": "qOPVMIawz-hU"
      },
      "outputs": [],
      "source": [
        "### Your code for 1.2(a) goes here ###"
      ]
    },
    {
      "cell_type": "markdown",
      "metadata": {
        "id": "CrZQxH5hz-hU"
      },
      "source": [
        "#### (b)"
      ]
    },
    {
      "cell_type": "code",
      "execution_count": null,
      "metadata": {
        "id": "ESSjRnLCz-hU"
      },
      "outputs": [],
      "source": [
        "### Your code for 1.2(b) goes here ###"
      ]
    },
    {
      "cell_type": "markdown",
      "metadata": {
        "id": "hWh95Fiyz-hU"
      },
      "source": [
        "#### (c)"
      ]
    },
    {
      "cell_type": "code",
      "execution_count": null,
      "metadata": {
        "id": "VZ9EtxC-z-hV"
      },
      "outputs": [],
      "source": [
        "### Your code for 1.2(c) goes here ###"
      ]
    },
    {
      "cell_type": "markdown",
      "metadata": {
        "id": "OYDjQvfFxnQw"
      },
      "source": [
        "### Problem 1.3"
      ]
    },
    {
      "cell_type": "code",
      "execution_count": null,
      "metadata": {
        "id": "5YCLwVJuxrXG"
      },
      "outputs": [],
      "source": [
        "### Your code for 1.3 goes here ###"
      ]
    },
    {
      "cell_type": "markdown",
      "metadata": {
        "id": "zpP3WEH6xw9b"
      },
      "source": [
        "_[Your justification for 1.3 goes here]_"
      ]
    },
    {
      "cell_type": "markdown",
      "metadata": {
        "id": "OqxjckzSz-hV"
      },
      "source": [
        "### Problem 1.4"
      ]
    },
    {
      "cell_type": "code",
      "execution_count": null,
      "metadata": {
        "id": "IPw21Smex-cV"
      },
      "outputs": [],
      "source": [
        "### Your code for 1.4 goes here ###"
      ]
    },
    {
      "cell_type": "markdown",
      "metadata": {
        "id": "bgxDFuA3z-hW"
      },
      "source": [
        "### Problem 1.5"
      ]
    },
    {
      "cell_type": "code",
      "execution_count": null,
      "metadata": {
        "id": "-0v14ybDz-hW"
      },
      "outputs": [],
      "source": [
        "### Your code for 1.5 goes here ###"
      ]
    },
    {
      "cell_type": "markdown",
      "metadata": {
        "id": "RRrpdSTJyGt1"
      },
      "source": [
        "### Problem 1.6"
      ]
    },
    {
      "cell_type": "code",
      "execution_count": null,
      "metadata": {
        "id": "Ctwd0h7XyG8k"
      },
      "outputs": [],
      "source": [
        "### Your code for 1.6 goes here ###"
      ]
    },
    {
      "cell_type": "markdown",
      "metadata": {
        "id": "E8hZzOSvymHL"
      },
      "source": [
        "# **2. Heart Failure Prediction Dataset**"
      ]
    },
    {
      "cell_type": "markdown",
      "metadata": {
        "id": "5YpfhDVMymHM"
      },
      "source": [
        "## Problem 2.1"
      ]
    },
    {
      "cell_type": "code",
      "execution_count": null,
      "metadata": {
        "id": "xD1GcvD4ymHM"
      },
      "outputs": [],
      "source": [
        "# load the dataset csv file into a pandas dataframe\n",
        "\n",
        "### heart_df = pd.read_csv('heart_failure_dataset.csv') ###"
      ]
    },
    {
      "cell_type": "markdown",
      "metadata": {
        "id": "1EQWwLbvymHN"
      },
      "source": [
        "### (a)"
      ]
    },
    {
      "cell_type": "markdown",
      "metadata": {
        "id": "6GkRt8w6ymHN"
      },
      "source": [
        "_[Your answer for 2.1(a) goes here]_"
      ]
    },
    {
      "cell_type": "markdown",
      "metadata": {
        "id": "T5HoKdioymHN"
      },
      "source": [
        "### (b)"
      ]
    },
    {
      "cell_type": "code",
      "execution_count": null,
      "metadata": {
        "id": "xUGIEmzYymHN"
      },
      "outputs": [],
      "source": [
        "### Your code for 2.1(b) goes here ###"
      ]
    },
    {
      "cell_type": "markdown",
      "metadata": {
        "id": "TGHAoXfMymHO"
      },
      "source": [
        "### (c)\n",
        "\n"
      ]
    },
    {
      "cell_type": "code",
      "execution_count": null,
      "metadata": {
        "id": "ItDMYWoFymHO"
      },
      "outputs": [],
      "source": [
        "### Your code for 2.1(c) goes here ###"
      ]
    },
    {
      "cell_type": "markdown",
      "metadata": {
        "id": "7kNl2WpSymHO"
      },
      "source": [
        "### (d)"
      ]
    },
    {
      "cell_type": "code",
      "execution_count": null,
      "metadata": {
        "id": "AblNbsncymHO"
      },
      "outputs": [],
      "source": [
        "### Your code for 2.1(d) goes here ###"
      ]
    },
    {
      "cell_type": "markdown",
      "metadata": {
        "id": "xuh9-lN7ymHP"
      },
      "source": [
        "### (e)"
      ]
    },
    {
      "cell_type": "markdown",
      "metadata": {
        "id": "tL9qHIJXymHP"
      },
      "source": [
        "_[Your answer for 2.1(e) goes here]_"
      ]
    },
    {
      "cell_type": "markdown",
      "metadata": {
        "id": "csN1zEzLymHP"
      },
      "source": [
        "### (f)"
      ]
    },
    {
      "cell_type": "markdown",
      "metadata": {
        "id": "a0HNj-AyymHP"
      },
      "source": [
        "_[Your answer for 2.1(f) goes here]_"
      ]
    },
    {
      "cell_type": "markdown",
      "metadata": {
        "id": "Ayov9je2ymHQ"
      },
      "source": [
        "### (g)"
      ]
    },
    {
      "cell_type": "markdown",
      "metadata": {
        "id": "B4E676ygymHQ"
      },
      "source": [
        "_[Your answer for 2.1(g) goes here]_"
      ]
    },
    {
      "cell_type": "markdown",
      "metadata": {
        "id": "a8Bo-uKXymHQ"
      },
      "source": [
        "### (h)"
      ]
    },
    {
      "cell_type": "markdown",
      "metadata": {
        "id": "3gxnjWUgymHQ"
      },
      "source": [
        "_[Your answer for 2.1(h) goes here]_"
      ]
    },
    {
      "cell_type": "markdown",
      "metadata": {
        "id": "G9BxqfsbymHQ"
      },
      "source": [
        "### (i)"
      ]
    },
    {
      "cell_type": "markdown",
      "metadata": {
        "id": "2bXh4Av6ymHR"
      },
      "source": [
        "_[Your answer for 2.1(i) goes here]_"
      ]
    },
    {
      "cell_type": "markdown",
      "metadata": {
        "id": "OzpMBV2cymHR"
      },
      "source": [
        "### (j)"
      ]
    },
    {
      "cell_type": "code",
      "execution_count": null,
      "metadata": {
        "id": "CM0kJiNMzftk"
      },
      "outputs": [],
      "source": [
        "### Your code for 2.1(j) goes here ###"
      ]
    },
    {
      "cell_type": "markdown",
      "metadata": {
        "id": "1tX1-uIgymHR"
      },
      "source": [
        "_[Your justification for 2.1(j) goes here]_"
      ]
    },
    {
      "cell_type": "markdown",
      "metadata": {
        "id": "2BBhe25UymHR"
      },
      "source": [
        "### (k)"
      ]
    },
    {
      "cell_type": "markdown",
      "metadata": {
        "id": "PNxn1zIzymHR"
      },
      "source": [
        "_[Your answer for 2.1(k) goes here]_"
      ]
    },
    {
      "cell_type": "markdown",
      "metadata": {
        "id": "e9TnxUb3ymHR"
      },
      "source": [
        "### (l)"
      ]
    },
    {
      "cell_type": "code",
      "execution_count": null,
      "metadata": {
        "id": "KUfiYo3lymHS"
      },
      "outputs": [],
      "source": [
        "### Your code for 2.1(l) goes here ###"
      ]
    },
    {
      "cell_type": "markdown",
      "metadata": {
        "id": "VlxMlRziymHS"
      },
      "source": [
        "### (m)"
      ]
    },
    {
      "cell_type": "code",
      "execution_count": null,
      "metadata": {
        "id": "Kp2yCXJ-z3Gh"
      },
      "outputs": [],
      "source": [
        "### Your code for 2.1(m) goes here ###"
      ]
    },
    {
      "cell_type": "markdown",
      "metadata": {
        "id": "S-53k2x3ymHS"
      },
      "source": [
        "### (n)"
      ]
    },
    {
      "cell_type": "code",
      "execution_count": null,
      "metadata": {
        "id": "emwfFgVAymHT"
      },
      "outputs": [],
      "source": [
        "### Your code for 2.1(n) goes here ###"
      ]
    },
    {
      "cell_type": "markdown",
      "metadata": {
        "id": "FpQWnOOpymHT"
      },
      "source": [
        "## Problem 2.2"
      ]
    },
    {
      "cell_type": "code",
      "execution_count": null,
      "metadata": {
        "id": "QmAtpjMiymHU"
      },
      "outputs": [],
      "source": [
        "### Your code for 2.2 goes here ###"
      ]
    },
    {
      "cell_type": "markdown",
      "metadata": {
        "id": "it9WyiZiymHU"
      },
      "source": [
        "_[Your justification for 2.2 goes here]_"
      ]
    },
    {
      "cell_type": "markdown",
      "metadata": {
        "id": "6fqh4x4FymHV"
      },
      "source": [
        "## Problem 2.3"
      ]
    },
    {
      "cell_type": "code",
      "execution_count": null,
      "metadata": {
        "id": "gMs526ezymHV"
      },
      "outputs": [],
      "source": [
        "### Your code for 2.3 goes here ###"
      ]
    },
    {
      "cell_type": "markdown",
      "metadata": {
        "id": "E98vhjP2ymHV"
      },
      "source": [
        "## Problem 2.4"
      ]
    },
    {
      "cell_type": "code",
      "execution_count": null,
      "metadata": {
        "id": "SPylR2kxymHW"
      },
      "outputs": [],
      "source": [
        "### Your code for 2.4 goes here ###"
      ]
    },
    {
      "cell_type": "markdown",
      "metadata": {
        "id": "xfPMV5BEymHW"
      },
      "source": [
        "## Problem 2.5"
      ]
    },
    {
      "cell_type": "code",
      "execution_count": null,
      "metadata": {
        "id": "RgVpyMUmymHW"
      },
      "outputs": [],
      "source": [
        "### Your code for 2.5 goes here ###"
      ]
    },
    {
      "cell_type": "markdown",
      "metadata": {
        "id": "ANRm2Vxh1Cda"
      },
      "source": [
        "### (a)"
      ]
    },
    {
      "cell_type": "markdown",
      "metadata": {
        "id": "2E0LfOKm1CVp"
      },
      "source": [
        "_[Your answer for 2.5(a) goes here]_"
      ]
    },
    {
      "cell_type": "markdown",
      "metadata": {
        "id": "HewpTMK61CI7"
      },
      "source": [
        "### (b)"
      ]
    },
    {
      "cell_type": "markdown",
      "metadata": {
        "id": "LRK015A91B-R"
      },
      "source": [
        "_[Your answer for 2.5(b) goes here]_"
      ]
    },
    {
      "cell_type": "markdown",
      "metadata": {
        "id": "jnGzZ9gO1BoX"
      },
      "source": [
        "### (c)"
      ]
    },
    {
      "cell_type": "markdown",
      "metadata": {
        "id": "zXc0HGwg1BlY"
      },
      "source": [
        "_[Your answer for 2.5(c) goes here]_"
      ]
    },
    {
      "cell_type": "markdown",
      "metadata": {
        "id": "fE1TPn3s1Xq9"
      },
      "source": [
        "### (d)"
      ]
    },
    {
      "cell_type": "markdown",
      "metadata": {
        "id": "1RXjXFH81XhL"
      },
      "source": [
        "_[Your answer for 2.5(d) goes here]_"
      ]
    }
  ],
  "metadata": {
    "colab": {
      "collapsed_sections": [],
      "provenance": []
    },
    "kernelspec": {
      "display_name": "Python 3",
      "language": "python",
      "name": "python3"
    },
    "language_info": {
      "codemirror_mode": {
        "name": "ipython",
        "version": 3
      },
      "file_extension": ".py",
      "mimetype": "text/x-python",
      "name": "python",
      "nbconvert_exporter": "python",
      "pygments_lexer": "ipython3",
      "version": "3.9.19"
    }
  },
  "nbformat": 4,
  "nbformat_minor": 0
}
